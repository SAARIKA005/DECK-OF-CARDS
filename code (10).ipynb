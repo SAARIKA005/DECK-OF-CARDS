{
  "nbformat": 4,
  "nbformat_minor": 0,
  "metadata": {
    "colab": {
      "name": "code",
      "provenance": [],
      "collapsed_sections": []
    },
    "kernelspec": {
      "name": "python3",
      "display_name": "Python 3"
    },
    "language_info": {
      "name": "python"
    }
  },
  "cells": [
    {
      "cell_type": "code",
      "source": [
        "# Python program to shuffle a deck of card\n",
        "\n",
        "# importing modules\n",
        "import itertools, random\n",
        "\n",
        "# make a deck of cards\n",
        "deck = list(itertools.product(range(1,14),['Spade','Heart','Diamond','Club']))\n",
        "\n",
        "# shuffle the cards\n",
        "random.shuffle(deck)\n",
        "\n",
        "# draw five cards\n",
        "print(\"You got:\")\n",
        "for i in range(5):\n",
        "   print(deck[i][0], \"of\", deck[i][1])"
      ],
      "metadata": {
        "id": "WhAUMC63bS8L"
      },
      "execution_count": null,
      "outputs": []
    }
  ]
}